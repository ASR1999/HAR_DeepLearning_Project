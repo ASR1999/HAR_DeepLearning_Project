{
 "cells": [
  {
   "cell_type": "markdown",
   "id": "92a69aa7",
   "metadata": {},
   "source": [
    "# Human Activity Recognition - Data Exploration\n",
    "\n",
    "This notebook explores the UCI HAR Dataset used for training our deep learning model.\n",
    "\n",
    "## Dataset Overview\n",
    "- **Source**: UCI Machine Learning Repository\n",
    "- **Activities**: 6 classes (WALKING, WALKING_UPSTAIRS, WALKING_DOWNSTAIRS, SITTING, STANDING, LAYING)\n",
    "- **Subjects**: 30 volunteers aged 19-48 years\n",
    "- **Sensors**: Accelerometer and Gyroscope (3-axial data)\n",
    "- **Sampling Rate**: 50 Hz\n",
    "- **Window Size**: 2.56 seconds (128 readings)\n"
   ]
  },
  {
   "cell_type": "code",
   "execution_count": null,
   "id": "9bfa6693",
   "metadata": {},
   "outputs": [],
   "source": [
    "# Import necessary libraries\n",
    "import sys\n",
    "sys.path.append('..')\n",
    "\n",
    "import numpy as np\n",
    "import pandas as pd\n",
    "import matplotlib.pyplot as plt\n",
    "import seaborn as sns\n",
    "from src.data_loader import get_data_loaders\n",
    "import torch\n",
    "\n",
    "# Set style for better visualizations\n",
    "sns.set_style(\"whitegrid\")\n",
    "plt.rcParams['figure.figsize'] = (15, 6)\n",
    "\n",
    "print(\"Libraries imported successfully!\")\n"
   ]
  },
  {
   "cell_type": "markdown",
   "id": "78d012e5",
   "metadata": {},
   "source": [
    "## 1. Load the Dataset\n"
   ]
  },
  {
   "cell_type": "code",
   "execution_count": null,
   "id": "478283fa",
   "metadata": {},
   "outputs": [],
   "source": [
    "# Load the data using our custom DataLoader\n",
    "train_loader, test_loader = get_data_loaders(batch_size=64)\n",
    "\n",
    "print(f\"Training samples: {len(train_loader.dataset)}\")\n",
    "print(f\"Test samples: {len(test_loader.dataset)}\")\n",
    "print(f\"Number of batches (train): {len(train_loader)}\")\n",
    "print(f\"Number of batches (test): {len(test_loader)}\")\n",
    "\n",
    "# Get a sample batch\n",
    "sample_signals, sample_labels = next(iter(train_loader))\n",
    "print(f\"\\nBatch shape: {sample_signals.shape}\")\n",
    "print(f\"Labels shape: {sample_labels.shape}\")\n",
    "print(f\"Data type: {sample_signals.dtype}\")\n"
   ]
  },
  {
   "cell_type": "markdown",
   "id": "7bba6bf0",
   "metadata": {},
   "source": [
    "## 2. Activity Distribution\n"
   ]
  },
  {
   "cell_type": "code",
   "execution_count": null,
   "id": "310c4738",
   "metadata": {},
   "outputs": [],
   "source": [
    "# Collect all labels from train and test sets\n",
    "train_labels = []\n",
    "test_labels = []\n",
    "\n",
    "for _, labels in train_loader:\n",
    "    train_labels.extend(labels.numpy())\n",
    "\n",
    "for _, labels in test_loader:\n",
    "    test_labels.extend(labels.numpy())\n",
    "\n",
    "train_labels = np.array(train_labels)\n",
    "test_labels = np.array(test_labels)\n",
    "\n",
    "activity_names = [\"WALKING\", \"WALKING_UPSTAIRS\", \"WALKING_DOWNSTAIRS\", \n",
    "                  \"SITTING\", \"STANDING\", \"LAYING\"]\n",
    "\n",
    "# Plot distribution\n",
    "fig, (ax1, ax2) = plt.subplots(1, 2, figsize=(15, 5))\n",
    "\n",
    "# Training set distribution\n",
    "train_counts = np.bincount(train_labels)\n",
    "ax1.bar(activity_names, train_counts, color='steelblue', alpha=0.8)\n",
    "ax1.set_title('Training Set Activity Distribution', fontsize=14, fontweight='bold')\n",
    "ax1.set_xlabel('Activity')\n",
    "ax1.set_ylabel('Count')\n",
    "ax1.tick_params(axis='x', rotation=45)\n",
    "for i, v in enumerate(train_counts):\n",
    "    ax1.text(i, v + 20, str(v), ha='center', va='bottom', fontweight='bold')\n",
    "\n",
    "# Test set distribution\n",
    "test_counts = np.bincount(test_labels)\n",
    "ax2.bar(activity_names, test_counts, color='coral', alpha=0.8)\n",
    "ax2.set_title('Test Set Activity Distribution', fontsize=14, fontweight='bold')\n",
    "ax2.set_xlabel('Activity')\n",
    "ax2.set_ylabel('Count')\n",
    "ax2.tick_params(axis='x', rotation=45)\n",
    "for i, v in enumerate(test_counts):\n",
    "    ax2.text(i, v + 10, str(v), ha='center', va='bottom', fontweight='bold')\n",
    "\n",
    "plt.tight_layout()\n",
    "plt.show()\n",
    "\n",
    "print(\"Activity distribution:\")\n",
    "print(f\"{'Activity':<20} {'Train':<10} {'Test':<10}\")\n",
    "print(\"-\" * 40)\n",
    "for i, name in enumerate(activity_names):\n",
    "    print(f\"{name:<20} {train_counts[i]:<10} {test_counts[i]:<10}\")\n"
   ]
  },
  {
   "cell_type": "markdown",
   "id": "23b894d0",
   "metadata": {},
   "source": [
    "## 3. Visualize Sample Signals\n"
   ]
  },
  {
   "cell_type": "code",
   "execution_count": null,
   "id": "050ea353",
   "metadata": {},
   "outputs": [],
   "source": [
    "# Get one sample of each activity\n",
    "activity_samples = {}\n",
    "loader_iter = iter(train_loader)\n",
    "\n",
    "while len(activity_samples) < 6:\n",
    "    signals, labels = next(loader_iter)\n",
    "    for i, label in enumerate(labels):\n",
    "        label_val = label.item()\n",
    "        if label_val not in activity_samples:\n",
    "            activity_samples[label_val] = signals[i].numpy()\n",
    "\n",
    "# Plot signals for each activity\n",
    "fig, axes = plt.subplots(6, 2, figsize=(16, 18))\n",
    "signal_names = ['Acc X', 'Acc Y', 'Acc Z', 'Gyro X', 'Gyro Y', 'Gyro Z']\n",
    "time_steps = np.arange(128) / 50  # 50 Hz sampling rate\n",
    "\n",
    "for activity_idx in range(6):\n",
    "    signal = activity_samples[activity_idx]\n",
    "    \n",
    "    # Plot accelerometer data\n",
    "    ax1 = axes[activity_idx, 0]\n",
    "    for i in range(3):\n",
    "        ax1.plot(time_steps, signal[i], label=signal_names[i], linewidth=1.5)\n",
    "    ax1.set_title(f'{activity_names[activity_idx]} - Accelerometer', \n",
    "                  fontsize=12, fontweight='bold')\n",
    "    ax1.set_xlabel('Time (seconds)')\n",
    "    ax1.set_ylabel('Acceleration')\n",
    "    ax1.legend(loc='upper right')\n",
    "    ax1.grid(True, alpha=0.3)\n",
    "    \n",
    "    # Plot gyroscope data\n",
    "    ax2 = axes[activity_idx, 1]\n",
    "    for i in range(3, 6):\n",
    "        ax2.plot(time_steps, signal[i], label=signal_names[i], linewidth=1.5)\n",
    "    ax2.set_title(f'{activity_names[activity_idx]} - Gyroscope', \n",
    "                  fontsize=12, fontweight='bold')\n",
    "    ax2.set_xlabel('Time (seconds)')\n",
    "    ax2.set_ylabel('Angular Velocity')\n",
    "    ax2.legend(loc='upper right')\n",
    "    ax2.grid(True, alpha=0.3)\n",
    "\n",
    "plt.tight_layout()\n",
    "plt.show()\n"
   ]
  },
  {
   "cell_type": "markdown",
   "id": "41574b27",
   "metadata": {},
   "source": [
    "## 4. Statistical Analysis\n"
   ]
  },
  {
   "cell_type": "code",
   "execution_count": null,
   "id": "5dbfe8ee",
   "metadata": {},
   "outputs": [],
   "source": [
    "# Calculate statistics for each activity\n",
    "stats_data = []\n",
    "\n",
    "for activity_idx in range(6):\n",
    "    signal = activity_samples[activity_idx]\n",
    "    \n",
    "    for channel_idx, channel_name in enumerate(signal_names):\n",
    "        channel_data = signal[channel_idx]\n",
    "        stats_data.append({\n",
    "            'Activity': activity_names[activity_idx],\n",
    "            'Signal': channel_name,\n",
    "            'Mean': np.mean(channel_data),\n",
    "            'Std': np.std(channel_data),\n",
    "            'Min': np.min(channel_data),\n",
    "            'Max': np.max(channel_data)\n",
    "        })\n",
    "\n",
    "stats_df = pd.DataFrame(stats_data)\n",
    "print(\"Signal Statistics by Activity:\")\n",
    "print(stats_df.to_string(index=False))\n"
   ]
  },
  {
   "cell_type": "markdown",
   "id": "98ea34c3",
   "metadata": {},
   "source": [
    "## 5. Signal Characteristics Heatmap\n"
   ]
  },
  {
   "cell_type": "code",
   "execution_count": null,
   "id": "c5f31f02",
   "metadata": {},
   "outputs": [],
   "source": [
    "# Create heatmap of mean signal values\n",
    "mean_values = np.zeros((6, 6))  # 6 activities x 6 signals\n",
    "\n",
    "for activity_idx in range(6):\n",
    "    signal = activity_samples[activity_idx]\n",
    "    for channel_idx in range(6):\n",
    "        mean_values[activity_idx, channel_idx] = np.mean(signal[channel_idx])\n",
    "\n",
    "plt.figure(figsize=(10, 8))\n",
    "sns.heatmap(mean_values, annot=True, fmt='.3f', cmap='coolwarm', \n",
    "            xticklabels=signal_names, yticklabels=activity_names,\n",
    "            cbar_kws={'label': 'Mean Value'})\n",
    "plt.title('Mean Signal Values by Activity', fontsize=14, fontweight='bold')\n",
    "plt.xlabel('Signal Channel')\n",
    "plt.ylabel('Activity')\n",
    "plt.tight_layout()\n",
    "plt.show()\n"
   ]
  },
  {
   "cell_type": "markdown",
   "id": "d0068f29",
   "metadata": {},
   "source": [
    "## 6. Key Observations\n",
    "\n",
    "1. **Dataset Balance**: The dataset appears to be relatively balanced across all 6 activity classes\n",
    "2. **Signal Patterns**: Different activities show distinct signal patterns:\n",
    "   - Walking activities show periodic patterns in accelerometer data\n",
    "   - Stationary activities (sitting, standing, laying) show more stable signals\n",
    "3. **Sensor Characteristics**:\n",
    "   - Accelerometer captures body motion and orientation\n",
    "   - Gyroscope captures rotational movements\n",
    "4. **Temporal Dependencies**: The 128-timestep windows capture enough information to distinguish activities\n",
    "\n",
    "This data is suitable for sequence modeling using CNN-LSTM architecture!\n"
   ]
  }
 ],
 "metadata": {
  "language_info": {
   "name": "python"
  }
 },
 "nbformat": 4,
 "nbformat_minor": 5
}
